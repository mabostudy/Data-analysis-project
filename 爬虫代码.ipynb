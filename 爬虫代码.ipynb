{
 "cells": [
  {
   "cell_type": "code",
   "execution_count": 4,
   "metadata": {},
   "outputs": [],
   "source": [
    "import requests\n",
    "import time\n",
    "import random\n",
    "#import pymongo\n",
    "\n",
    "#client = pymongo.MongoClient(host = \"127.0.0.1\",port=27017)\n",
    "#db = client[\"spider\"]\n",
    "#collection = db[\"lagou\"]"
   ]
  },
  {
   "cell_type": "code",
   "execution_count": 5,
   "metadata": {},
   "outputs": [],
   "source": [
    "def get_cookie():\n",
    "    headers = {\n",
    "    'Connection': 'keep-alive',\n",
    "    'Cache-Control': 'max-age=0',\n",
    "    'Upgrade-Insecure-Requests': '1',\n",
    "    'User-Agent': 'Mozilla/5.0 (Windows NT 6.1; Win64; x64) AppleWebKit/537.36 (KHTML, like Gecko) Chrome/71.0.3578.80 Safari/537.36',\n",
    "    'Accept': 'text/html,application/xhtml+xml,application/xml;q=0.9,image/webp,image/apng,*/*;q=0.8',\n",
    "    'Accept-Encoding': 'gzip, deflate, br',\n",
    "    'Accept-Language': 'zh-CN,zh;q=0.9,en;q=0.8',\n",
    "}\n",
    "    response = requests.get(\n",
    "        'https://www.lagou.com/jobs/list_?city=%E4%B8%8A%E6%B5%B7&cl=false&fromSearch=true&labelWords=&suginput=',\n",
    "        headers=headers)  # 请求原网页\n",
    "    r = requests.utils.dict_from_cookiejar(response.cookies)  # 获取cookies\n",
    "\n",
    "    cookies = {\n",
    "        'X_MIDDLE_TOKEN': 'b378b95e10365bf661d07c4677d0796b',\n",
    "        'JSESSIONID': 'ABAAAECABIEACCAF128E0B5E71B556B2CA5906FCB47B35A',\n",
    "        '_ga': 'GA1.2.2029710160.1597402404',\n",
    "        '_gat': '1',\n",
    "        'Hm_lvt_4233e74dff0ae5bd0a3d81c6ccf756e6': '1597402405',\n",
    "        'user_trace_token': '20200814185324-964f6276-b305-42bc-ace0-b2d9281183be',\n",
    "        'LGSID': '20200814185325-2014f63b-09d9-4803-bbe1-88d52f7e09be',\n",
    "        'PRE_UTM': '',\n",
    "        'PRE_HOST': '',\n",
    "        'PRE_SITE': '',\n",
    "        'PRE_LAND': 'https%3A%2F%2Fwww.lagou.com%2F%3F_from_mid%3D1',\n",
    "        'LGUID': '20200814185325-2014f63b-09d9-4803-bbe1-88d52f7e09be',\n",
    "        '_gid': 'GA1.2.1977632940.1597402405',\n",
    "        'index_location_city': '%E4%B8%8A%E6%B5%B7',\n",
    "        'TG-TRACK-CODE': 'index_hotjob',\n",
    "        'LGRID': '20200814192428-6a6ac31c-af6b-4a6f-8310-1710a2b061a4',\n",
    "        'Hm_lpvt_4233e74dff0ae5bd0a3d81c6ccf756e6': '1597404269',\n",
    "        'SEARCH_ID': '585c4d7b18774cf39cf60d9a1907a88e',\n",
    "    }\n",
    "    cookies.update(r)  # 更新接口的cookies\n",
    "    return cookies\n",
    "\n",
    "def crawl(city = \"\", pn = 1, cookies = None):\n",
    "    headers = {\n",
    "        'Origin': 'https://www.lagou.com',\n",
    "        'X-Anit-Forge-Code': '0',\n",
    "        'Accept-Encoding': 'gzip, deflate, br',\n",
    "        'Accept-Language': 'zh-CN,zh;q=0.9,en;q=0.8',\n",
    "        'User-Agent': 'Mozilla/5.0 (Windows NT 6.1; Win64; x64) AppleWebKit/537.36 (KHTML, like Gecko) Chrome/71.0.3578.80 Safari/537.36',\n",
    "        'Content-Type': 'application/x-www-form-urlencoded; charset=UTF-8',\n",
    "        'Accept': 'application/json, text/javascript, */*; q=0.01',\n",
    "        'Referer': 'https://www.lagou.com/jobs/list_java?px=new&city=%E4%B8%8A%E6%B5%B7',\n",
    "        'X-Requested-With': 'XMLHttpRequest',\n",
    "        'Connection': 'keep-alive',\n",
    "        'X-Anit-Forge-Token': 'None',\n",
    "    }\n",
    "\n",
    "    params = (\n",
    "        ('px', 'default'),\n",
    "        ('city',city),\n",
    "        ('needAddtionalResult', 'false'),\n",
    "    )\n",
    "\n",
    "    data = {\"first\":\"true\",\n",
    "            'kd': '数据分析',\n",
    "            'pn': pn}\n",
    "    if pn>1:\n",
    "        data[\"first\"] = \"false\"\n",
    "    response = requests.post('https://www.lagou.com/jobs/positionAjax.json', headers=headers, params=params,\n",
    "                             cookies=cookies, data=data)  # 请求接口\n",
    "    return response.json()"
   ]
  },
  {
   "cell_type": "code",
   "execution_count": 8,
   "metadata": {},
   "outputs": [
    {
     "name": "stdout",
     "output_type": "stream",
     "text": [
      "************************************************************\n",
      "北京 start\n",
      "[{'positionId': 7580786, 'positionName': '数据分析师', 'companyId': 120524986, 'companyFullName': '智运通（北京）科技有限责任公司', 'companyShortName': '智运通', 'companyLogo': 'i/image/M00/2C/81/CgqCHl8BjHuAPvAlAAAGzxu6LWo461.png', 'companySize': '15-50人', 'industryField': '物流丨运输', 'financeStage': 'A轮', 'companyLabelList': [], 'firstType': '开发|测试|运维类', 'secondType': '数据开发', 'thirdType': '数据分析', 'skillLables': ['数据挖掘', '算法工程师', '数仓建模', '数据仓库'], 'positionLables': ['大数据', '云计算', '数据挖掘', '算法工程师', '数仓建模', '数据仓库'], 'industryLables': ['大数据', '云计算', '数据挖掘', '算法工程师', '数仓建模', '数据仓库'], 'createTime': '2020-08-17 20:29:29', 'formatCreateTime': '20:29发布', 'city': '北京', 'district': '海淀区', 'businessZones': None, 'salary': '15k-25k', 'salaryMonth': '13', 'workYear': '3-5年', 'jobNature': '全职', 'education': '本科', 'positionAdvantage': '前景好，福利待遇完善，期权', 'imState': 'today', 'lastLogin': '2020-08-17 20:27:41', 'publisherId': 12176301, 'approve': 0, 'subwayline': '4号线大兴线', 'stationname': '魏公村', 'linestaion': '4号线大兴线_魏公村;4号线大兴线_人民大学', 'latitude': '39.961117', 'longitude': '116.323564', 'distance': None, 'hitags': None, 'resumeProcessRate': 31, 'resumeProcessDay': 1, 'score': 22, 'newScore': 0.0, 'matchScore': 2.763854, 'matchScoreExplain': None, 'query': None, 'explain': None, 'isSchoolJob': 0, 'adWord': 0, 'plus': None, 'pcShow': 0, 'appShow': 0, 'deliver': 0, 'gradeDescription': None, 'promotionScoreExplain': None, 'isHotHire': 0, 'count': 0, 'aggregatePositionIds': [], 'promotionType': None, 'detailRecall': False, 'famousCompany': False}, {'positionId': 7328009, 'positionName': '数据分析师', 'companyId': 62, 'companyFullName': '北京字节跳动科技有限公司', 'companyShortName': '字节跳动', 'companyLogo': 'i/image2/M01/79/0A/CgoB5ltr2A-AM5SFAADbT9jQCn841.jpeg', 'companySize': '2000人以上', 'industryField': '文娱丨内容', 'financeStage': 'C轮', 'companyLabelList': ['扁平管理', '弹性工作', '大厨定制三餐', '就近租房补贴'], 'firstType': '产品|需求|项目类', 'secondType': '数据分析', 'thirdType': '数据分析', 'skillLables': [], 'positionLables': ['数据分析'], 'industryLables': ['数据分析'], 'createTime': '2020-08-17 19:18:04', 'formatCreateTime': '19:18发布', 'city': '北京', 'district': '海淀区', 'businessZones': None, 'salary': '30k-60k', 'salaryMonth': '0', 'workYear': '不限', 'jobNature': '全职', 'education': '本科', 'positionAdvantage': '六险一金,股票期权,弹性工作,免费三餐', 'imState': 'today', 'lastLogin': '2020-08-17 19:10:11', 'publisherId': 8751754, 'approve': 1, 'subwayline': '10号线', 'stationname': '西土城', 'linestaion': '10号线_西土城;10号线_牡丹园;10号线_健德门', 'latitude': '39.979578', 'longitude': '116.369044', 'distance': None, 'hitags': None, 'resumeProcessRate': 1, 'resumeProcessDay': 1, 'score': 17, 'newScore': 0.0, 'matchScore': 1.7909774, 'matchScoreExplain': None, 'query': None, 'explain': None, 'isSchoolJob': 0, 'adWord': 0, 'plus': None, 'pcShow': 0, 'appShow': 0, 'deliver': 0, 'gradeDescription': None, 'promotionScoreExplain': None, 'isHotHire': 0, 'count': 0, 'aggregatePositionIds': [], 'promotionType': None, 'detailRecall': False, 'famousCompany': True}, {'positionId': 6468754, 'positionName': '数据分析师', 'companyId': 62, 'companyFullName': '北京字节跳动科技有限公司', 'companyShortName': '字节跳动', 'companyLogo': 'i/image2/M01/79/0A/CgoB5ltr2A-AM5SFAADbT9jQCn841.jpeg', 'companySize': '2000人以上', 'industryField': '文娱丨内容', 'financeStage': 'C轮', 'companyLabelList': ['扁平管理', '弹性工作', '大厨定制三餐', '就近租房补贴'], 'firstType': '产品|需求|项目类', 'secondType': '数据分析', 'thirdType': '数据分析', 'skillLables': ['产品'], 'positionLables': ['产品'], 'industryLables': [], 'createTime': '2020-08-17 17:58:43', 'formatCreateTime': '17:58发布', 'city': '北京', 'district': '海淀区', 'businessZones': None, 'salary': '12k-20k', 'salaryMonth': '0', 'workYear': '3-5年', 'jobNature': '全职', 'education': '本科', 'positionAdvantage': '六险一金，免费三餐，租房补贴，带薪休假', 'imState': 'today', 'lastLogin': '2020-08-17 16:55:47', 'publisherId': 11480061, 'approve': 1, 'subwayline': '10号线', 'stationname': '知春路', 'linestaion': '10号线_知春里;10号线_知春路;10号线_西土城;13号线_知春路', 'latitude': '39.978738', 'longitude': '116.336841', 'distance': None, 'hitags': None, 'resumeProcessRate': 9, 'resumeProcessDay': 1, 'score': 17, 'newScore': 0.0, 'matchScore': 1.7725518, 'matchScoreExplain': None, 'query': None, 'explain': None, 'isSchoolJob': 0, 'adWord': 0, 'plus': None, 'pcShow': 0, 'appShow': 0, 'deliver': 0, 'gradeDescription': None, 'promotionScoreExplain': None, 'isHotHire': 0, 'count': 0, 'aggregatePositionIds': [], 'promotionType': None, 'detailRecall': False, 'famousCompany': True}, {'positionId': 7559821, 'positionName': '数据分析师', 'companyId': 32836, 'companyFullName': '达疆网络科技（上海）有限公司', 'companyShortName': '达达集团', 'companyLogo': 'i/image2/M01/AF/7F/CgotOV3kqOqAZvWrAAAaonXDCck059.png', 'companySize': '2000人以上', 'industryField': '消费生活', 'financeStage': '上市公司', 'companyLabelList': ['弹性工作', '股票期权', '扁平管理', '技术氛围浓厚'], 'firstType': '产品|需求|项目类', 'secondType': '产品经理', 'thirdType': '数据分析师', 'skillLables': ['数据分析'], 'positionLables': ['电商', '数据分析'], 'industryLables': ['电商', '数据分析'], 'createTime': '2020-08-12 15:44:55', 'formatCreateTime': '2020-08-12', 'city': '北京', 'district': '大兴区', 'businessZones': ['亦庄'], 'salary': '20k-40k', 'salaryMonth': '14', 'workYear': '不限', 'jobNature': '全职', 'education': '本科', 'positionAdvantage': '发展前景广', 'imState': 'today', 'lastLogin': '2020-08-17 17:31:51', 'publisherId': 13941802, 'approve': 1, 'subwayline': '亦庄线', 'stationname': '万源街', 'linestaion': '亦庄线_万源街;亦庄线_荣京东街', 'latitude': '39.795747', 'longitude': '116.510442', 'distance': None, 'hitags': ['免费班车', '新婚红包', '定期调薪', '电脑补贴', '生子红包', '地铁周边', '超长年假', '定期团建', '6险1金'], 'resumeProcessRate': 0, 'resumeProcessDay': 0, 'score': 17, 'newScore': 0.0, 'matchScore': 1.7725518, 'matchScoreExplain': None, 'query': None, 'explain': None, 'isSchoolJob': 0, 'adWord': 0, 'plus': None, 'pcShow': 0, 'appShow': 0, 'deliver': 0, 'gradeDescription': None, 'promotionScoreExplain': None, 'isHotHire': 0, 'count': 0, 'aggregatePositionIds': [], 'promotionType': None, 'detailRecall': False, 'famousCompany': True}, {'positionId': 6831881, 'positionName': '数据分析', 'companyId': 32836, 'companyFullName': '达疆网络科技（上海）有限公司', 'companyShortName': '达达集团', 'companyLogo': 'i/image2/M01/AF/7F/CgotOV3kqOqAZvWrAAAaonXDCck059.png', 'companySize': '2000人以上', 'industryField': '消费生活', 'financeStage': '上市公司', 'companyLabelList': ['弹性工作', '股票期权', '扁平管理', '技术氛围浓厚'], 'firstType': '产品|需求|项目类', 'secondType': '数据分析', 'thirdType': '数据分析', 'skillLables': ['BI', '数据分析'], 'positionLables': ['BI'], 'industryLables': [], 'createTime': '2020-08-12 15:42:27', 'formatCreateTime': '2020-08-12', 'city': '北京', 'district': '大兴区', 'businessZones': ['亦庄'], 'salary': '20k-40k', 'salaryMonth': '0', 'workYear': '3-5年', 'jobNature': '全职', 'education': '本科', 'positionAdvantage': '五险一金 下午茶', 'imState': 'today', 'lastLogin': '2020-08-17 17:31:51', 'publisherId': 13941802, 'approve': 1, 'subwayline': '亦庄线', 'stationname': '万源街', 'linestaion': '亦庄线_万源街;亦庄线_荣京东街', 'latitude': '39.795747', 'longitude': '116.510442', 'distance': None, 'hitags': ['免费班车', '新婚红包', '定期调薪', '电脑补贴', '生子红包', '地铁周边', '超长年假', '定期团建', '6险1金'], 'resumeProcessRate': 0, 'resumeProcessDay': 0, 'score': 17, 'newScore': 0.0, 'matchScore': 1.7725518, 'matchScoreExplain': None, 'query': None, 'explain': None, 'isSchoolJob': 0, 'adWord': 0, 'plus': None, 'pcShow': 0, 'appShow': 0, 'deliver': 0, 'gradeDescription': None, 'promotionScoreExplain': None, 'isHotHire': 0, 'count': 0, 'aggregatePositionIds': [], 'promotionType': None, 'detailRecall': False, 'famousCompany': True}, {'positionId': 6385470, 'positionName': '资深数据分析师', 'companyId': 147, 'companyFullName': '北京拉勾网络技术有限公司', 'companyShortName': '拉勾网', 'companyLogo': 'i/image2/M01/79/70/CgotOV1aS4qAWK6WAAAM4NTpXws809.png', 'companySize': '500-2000人', 'industryField': '企业服务', 'financeStage': 'D轮及以上', 'companyLabelList': ['五险一金', '弹性工作', '带薪年假', '免费两餐'], 'firstType': '产品|需求|项目类', 'secondType': '数据分析', 'thirdType': '数据分析', 'skillLables': ['商业', '数据分析'], 'positionLables': ['商业', '数据分析'], 'industryLables': [], 'createTime': '2020-08-14 14:56:14', 'formatCreateTime': '3天前发布', 'city': '北京', 'district': '海淀区', 'businessZones': None, 'salary': '20k-35k', 'salaryMonth': '0', 'workYear': '3-5年', 'jobNature': '全职', 'education': '本科', 'positionAdvantage': '福利待遇好，周末双休，提供午餐和晚餐', 'imState': 'today', 'lastLogin': '2020-08-17 18:07:57', 'publisherId': 15007412, 'approve': 1, 'subwayline': '10号线', 'stationname': '中关村', 'linestaion': '4号线大兴线_海淀黄庄;4号线大兴线_中关村;4号线大兴线_北京大学东门;10号线_苏州街;10号线_海淀黄庄', 'latitude': '39.982128', 'longitude': '116.307747', 'distance': None, 'hitags': ['免费下午茶', 'ipo倒计时', 'bat背景', '地铁周边', '每天管两餐', '定期团建', '团队年轻有活力', '6险1金'], 'resumeProcessRate': 30, 'resumeProcessDay': 1, 'score': 17, 'newScore': 0.0, 'matchScore': 1.7725518, 'matchScoreExplain': None, 'query': None, 'explain': None, 'isSchoolJob': 0, 'adWord': 0, 'plus': None, 'pcShow': 0, 'appShow': 0, 'deliver': 0, 'gradeDescription': None, 'promotionScoreExplain': None, 'isHotHire': 0, 'count': 0, 'aggregatePositionIds': [], 'promotionType': None, 'detailRecall': False, 'famousCompany': True}, {'positionId': 7195253, 'positionName': '高级数据分析师', 'companyId': 147, 'companyFullName': '北京拉勾网络技术有限公司', 'companyShortName': '拉勾网', 'companyLogo': 'i/image2/M01/79/70/CgotOV1aS4qAWK6WAAAM4NTpXws809.png', 'companySize': '500-2000人', 'industryField': '企业服务', 'financeStage': 'D轮及以上', 'companyLabelList': ['五险一金', '弹性工作', '带薪年假', '免费两餐'], 'firstType': '开发|测试|运维类', 'secondType': '数据开发', 'thirdType': '数据分析', 'skillLables': ['数据分析'], 'positionLables': ['企业服务', '大数据', '数据分析'], 'industryLables': ['企业服务', '大数据', '数据分析'], 'createTime': '2020-08-17 15:09:27', 'formatCreateTime': '15:09发布', 'city': '北京', 'district': '海淀区', 'businessZones': ['北京大学', '颐和园', '中关村'], 'salary': '25k-35k', 'salaryMonth': '0', 'workYear': '5-10年', 'jobNature': '全职', 'education': '本科', 'positionAdvantage': '发展空间大,弹性工作制,领导Nice', 'imState': 'today', 'lastLogin': '2020-08-17 19:35:51', 'publisherId': 399471, 'approve': 1, 'subwayline': '10号线', 'stationname': '知春里', 'linestaion': '4号线大兴线_海淀黄庄;4号线大兴线_中关村;4号线大兴线_北京大学东门;10号线_苏州街;10号线_海淀黄庄;10号线_知春里', 'latitude': '39.982338', 'longitude': '116.314526', 'distance': None, 'hitags': ['免费下午茶', 'ipo倒计时', 'bat背景', '地铁周边', '每天管两餐', '定期团建', '团队年轻有活力', '6险1金'], 'resumeProcessRate': 100, 'resumeProcessDay': 1, 'score': 17, 'newScore': 0.0, 'matchScore': 1.7725518, 'matchScoreExplain': None, 'query': None, 'explain': None, 'isSchoolJob': 0, 'adWord': 0, 'plus': None, 'pcShow': 0, 'appShow': 0, 'deliver': 0, 'gradeDescription': None, 'promotionScoreExplain': None, 'isHotHire': 0, 'count': 0, 'aggregatePositionIds': [], 'promotionType': None, 'detailRecall': False, 'famousCompany': True}, {'positionId': 6559839, 'positionName': '数据分析师', 'companyId': 79922, 'companyFullName': '欧科互动网络科技（北京）有限公司', 'companyShortName': 'OK Group', 'companyLogo': 'i/image/M00/09/9B/Ciqc1F68uHGAYz4vAAAWSA7Rl8U790.png', 'companySize': '500-2000人', 'industryField': '金融', 'financeStage': 'B轮', 'companyLabelList': ['节日礼物', '年度旅游', '扁平管理', '领导好'], 'firstType': '产品|需求|项目类', 'secondType': '数据分析', 'thirdType': '数据分析', 'skillLables': ['数据分析'], 'positionLables': ['数据分析'], 'industryLables': [], 'createTime': '2020-08-17 18:45:20', 'formatCreateTime': '18:45发布', 'city': '北京', 'district': '海淀区', 'businessZones': ['西北旺', '上地', '清河'], 'salary': '25k-45k', 'salaryMonth': '0', 'workYear': '5-10年', 'jobNature': '全职', 'education': '大专', 'positionAdvantage': '大牛团队 发展前景 薪资客观', 'imState': 'today', 'lastLogin': '2020-08-17 18:36:02', 'publisherId': 8661067, 'approve': 1, 'subwayline': '昌平线', 'stationname': '西二旗', 'linestaion': '13号线_上地;13号线_西二旗;昌平线_西二旗', 'latitude': '40.040752', 'longitude': '116.310529', 'distance': None, 'hitags': None, 'resumeProcessRate': 0, 'resumeProcessDay': 0, 'score': 17, 'newScore': 0.0, 'matchScore': 1.7725518, 'matchScoreExplain': None, 'query': None, 'explain': None, 'isSchoolJob': 0, 'adWord': 0, 'plus': None, 'pcShow': 0, 'appShow': 0, 'deliver': 0, 'gradeDescription': None, 'promotionScoreExplain': None, 'isHotHire': 0, 'count': 0, 'aggregatePositionIds': [], 'promotionType': None, 'detailRecall': False, 'famousCompany': True}, {'positionId': 7583101, 'positionName': '数据分析专家', 'companyId': 956, 'companyFullName': '北京金山云网络技术有限公司', 'companyShortName': '金山云', 'companyLogo': 'i/image2/M01/55/C3/CgotOV0ZsaWARGt4AAGgP0ygAaM752.jpg', 'companySize': '2000人以上', 'industryField': '移动互联网,数据服务', 'financeStage': 'D轮及以上', 'companyLabelList': ['技能培训', '节日礼物', '瑜伽房', '免费班车'], 'firstType': '产品|需求|项目类', 'secondType': '高端产品职位', 'thirdType': '数据分析专家', 'skillLables': [], 'positionLables': ['大数据', '信息安全'], 'industryLables': ['大数据', '信息安全'], 'createTime': '2020-08-17 20:29:02', 'formatCreateTime': '20:29发布', 'city': '北京', 'district': None, 'businessZones': None, 'salary': '25k-45k', 'salaryMonth': '14', 'workYear': '5-10年', 'jobNature': '全职', 'education': '本科', 'positionAdvantage': '带团队，和高层接触', 'imState': 'today', 'lastLogin': '2020-08-17 20:28:39', 'publisherId': 5135226, 'approve': 1, 'subwayline': None, 'stationname': None, 'linestaion': None, 'latitude': None, 'longitude': None, 'distance': None, 'hitags': None, 'resumeProcessRate': 0, 'resumeProcessDay': 0, 'score': 15, 'newScore': 0.0, 'matchScore': 2.4487746, 'matchScoreExplain': None, 'query': None, 'explain': None, 'isSchoolJob': 0, 'adWord': 0, 'plus': None, 'pcShow': 0, 'appShow': 0, 'deliver': 0, 'gradeDescription': None, 'promotionScoreExplain': None, 'isHotHire': 0, 'count': 0, 'aggregatePositionIds': [], 'promotionType': None, 'detailRecall': False, 'famousCompany': True}, {'positionId': 6833716, 'positionName': '数据分析专员', 'companyId': 433964, 'companyFullName': '北京钛氪新媒体科技有限公司', 'companyShortName': '钛氪新媒体科技', 'companyLogo': 'i/image2/M01/79/A7/CgotOVttLOiATJ0TAABZGq1v4uA368.jpg', 'companySize': '50-150人', 'industryField': '移动互联网', 'financeStage': '未融资', 'companyLabelList': [], 'firstType': '产品|需求|项目类', 'secondType': '数据分析', 'thirdType': '数据分析', 'skillLables': ['商业', '数据分析', '数据库'], 'positionLables': ['大数据', '商业', '数据分析', '数据库'], 'industryLables': ['大数据', '商业', '数据分析', '数据库'], 'createTime': '2020-08-17 20:12:30', 'formatCreateTime': '20:12发布', 'city': '北京', 'district': '朝阳区', 'businessZones': ['红庙', '呼家楼'], 'salary': '8k-16k', 'salaryMonth': '0', 'workYear': '1-3年', 'jobNature': '全职', 'education': '本科', 'positionAdvantage': '新媒体,大数据,inews，ai', 'imState': 'today', 'lastLogin': '2020-08-17 20:09:12', 'publisherId': 5517794, 'approve': 1, 'subwayline': '1号线', 'stationname': '国贸', 'linestaion': '1号线_国贸;1号线_大望路;6号线_金台路;6号线_呼家楼;10号线_呼家楼;10号线_金台夕照;10号线_国贸;14号线东段_金台路;14号线东段_大望路', 'latitude': '39.919103', 'longitude': '116.473057', 'distance': None, 'hitags': None, 'resumeProcessRate': 18, 'resumeProcessDay': 1, 'score': 14, 'newScore': 0.0, 'matchScore': 2.763854, 'matchScoreExplain': None, 'query': None, 'explain': None, 'isSchoolJob': 0, 'adWord': 0, 'plus': None, 'pcShow': 0, 'appShow': 0, 'deliver': 0, 'gradeDescription': None, 'promotionScoreExplain': None, 'isHotHire': 0, 'count': 0, 'aggregatePositionIds': [], 'promotionType': None, 'detailRecall': False, 'famousCompany': False}, {'positionId': 7361864, 'positionName': '数据分析师', 'companyId': 82991, 'companyFullName': '北京数美时代科技有限公司', 'companyShortName': '数美', 'companyLogo': 'i/image2/M01/65/2B/CgoB5l0xjbWAfKi0AABYdgbzWyQ168.jpg', 'companySize': '150-500人', 'industryField': '企业服务,数据服务', 'financeStage': 'C轮', 'companyLabelList': ['年底双薪', '大数据', '带薪年假', '通讯津贴'], 'firstType': '产品|需求|项目类', 'secondType': '产品经理', 'thirdType': '数据分析师', 'skillLables': ['竞品分析', 'SaaS', '企业软件'], 'positionLables': ['竞品分析', 'SaaS', '企业软件'], 'industryLables': [], 'createTime': '2020-08-17 19:51:08', 'formatCreateTime': '19:51发布', 'city': '北京', 'district': '朝阳区', 'businessZones': ['望京', '来广营'], 'salary': '10k-20k', 'salaryMonth': '14', 'workYear': '1-3年', 'jobNature': '全职', 'education': '本科', 'positionAdvantage': '风控独角兽、飞速发展、待遇给力', 'imState': 'today', 'lastLogin': '2020-08-17 20:01:32', 'publisherId': 2117266, 'approve': 1, 'subwayline': '14号线东段', 'stationname': '东湖渠', 'linestaion': '14号线东段_来广营;14号线东段_东湖渠', 'latitude': '40.021083', 'longitude': '116.465953', 'distance': None, 'hitags': None, 'resumeProcessRate': 100, 'resumeProcessDay': 1, 'score': 14, 'newScore': 0.0, 'matchScore': 2.763854, 'matchScoreExplain': None, 'query': None, 'explain': None, 'isSchoolJob': 0, 'adWord': 0, 'plus': None, 'pcShow': 0, 'appShow': 0, 'deliver': 0, 'gradeDescription': None, 'promotionScoreExplain': None, 'isHotHire': 0, 'count': 0, 'aggregatePositionIds': [], 'promotionType': None, 'detailRecall': False, 'famousCompany': True}, {'positionId': 7570626, 'positionName': '数据分析专员', 'companyId': 433964, 'companyFullName': '北京钛氪新媒体科技有限公司', 'companyShortName': '钛氪新媒体科技', 'companyLogo': 'i/image2/M01/79/A7/CgotOVttLOiATJ0TAABZGq1v4uA368.jpg', 'companySize': '50-150人', 'industryField': '移动互联网', 'financeStage': '未融资', 'companyLabelList': [], 'firstType': '开发|测试|运维类', 'secondType': '数据开发', 'thirdType': '数据分析', 'skillLables': ['MySQL', 'Python'], 'positionLables': ['MySQL', 'Python'], 'industryLables': [], 'createTime': '2020-08-17 20:12:30', 'formatCreateTime': '20:12发布', 'city': '北京', 'district': '朝阳区', 'businessZones': None, 'salary': '8k-16k', 'salaryMonth': '0', 'workYear': '1-3年', 'jobNature': '全职', 'education': '本科', 'positionAdvantage': '团队氛围好，领导nice', 'imState': 'today', 'lastLogin': '2020-08-17 20:03:49', 'publisherId': 16352411, 'approve': 1, 'subwayline': '1号线', 'stationname': '国贸', 'linestaion': '1号线_国贸;1号线_大望路;6号线_金台路;6号线_呼家楼;10号线_呼家楼;10号线_金台夕照;10号线_国贸;14号线东段_金台路;14号线东段_大望路', 'latitude': '39.919103', 'longitude': '116.473057', 'distance': None, 'hitags': None, 'resumeProcessRate': 49, 'resumeProcessDay': 1, 'score': 13, 'newScore': 0.0, 'matchScore': 2.6053932, 'matchScoreExplain': None, 'query': None, 'explain': None, 'isSchoolJob': 0, 'adWord': 0, 'plus': None, 'pcShow': 0, 'appShow': 0, 'deliver': 0, 'gradeDescription': None, 'promotionScoreExplain': None, 'isHotHire': 0, 'count': 0, 'aggregatePositionIds': [], 'promotionType': None, 'detailRecall': False, 'famousCompany': False}, {'positionId': 7582838, 'positionName': '数据分析师', 'companyId': 16799, 'companyFullName': '北京猿力未来科技有限公司', 'companyShortName': '猿辅导', 'companyLogo': 'i/image2/M01/79/8A/CgotOV1aXGGAeb9BAAAnFsEKRsI397.png', 'companySize': '2000人以上', 'industryField': '移动互联网,教育', 'financeStage': 'D轮及以上', 'companyLabelList': ['股票期权', '年底双薪', '五险一金', '带薪年假'], 'firstType': '产品|需求|项目类', 'secondType': '产品经理', 'thirdType': '数据分析师', 'skillLables': ['数据分析', '用户研究'], 'positionLables': ['工具软件', '数据分析', '用户研究'], 'industryLables': ['工具软件', '数据分析', '用户研究'], 'createTime': '2020-08-17 18:53:25', 'formatCreateTime': '18:53发布', 'city': '北京', 'district': '朝阳区', 'businessZones': ['望京'], 'salary': '15k-30k', 'salaryMonth': '14', 'workYear': '1-3年', 'jobNature': '全职', 'education': '本科', 'positionAdvantage': '六险一金，大牛团队，出国旅游', 'imState': 'today', 'lastLogin': '2020-08-17 19:42:29', 'publisherId': 9429482, 'approve': 1, 'subwayline': '15号线', 'stationname': '望京南', 'linestaion': '14号线东段_望京;14号线东段_阜通;14号线东段_望京南;15号线_望京', 'latitude': '39.992488', 'longitude': '116.474762', 'distance': None, 'hitags': None, 'resumeProcessRate': 0, 'resumeProcessDay': 0, 'score': 13, 'newScore': 0.0, 'matchScore': 1.7596538, 'matchScoreExplain': None, 'query': None, 'explain': None, 'isSchoolJob': 0, 'adWord': 0, 'plus': None, 'pcShow': 0, 'appShow': 0, 'deliver': 0, 'gradeDescription': None, 'promotionScoreExplain': None, 'isHotHire': 0, 'count': 0, 'aggregatePositionIds': [], 'promotionType': None, 'detailRecall': False, 'famousCompany': True}, {'positionId': 7577955, 'positionName': '数据分析师', 'companyId': 81200, 'companyFullName': '北京云舒写教育科技有限公司', 'companyShortName': '云舒写教育科技', 'companyLogo': 'i/image/M00/00/AA/Cgp3O1ZSigOATx6FAABKjiNTz7c575.png', 'companySize': '150-500人', 'industryField': '移动互联网,教育', 'financeStage': 'B轮', 'companyLabelList': ['技能培训', '股票期权', '岗位晋升', '扁平管理'], 'firstType': '产品|需求|项目类', 'secondType': '产品经理', 'thirdType': '数据分析师', 'skillLables': ['用户研究', '用户增长', '数据分析', '在线教育产品'], 'positionLables': ['电商', '教育', '用户研究', '用户增长', '数据分析', '在线教育产品'], 'industryLables': ['电商', '教育', '用户研究', '用户增长', '数据分析', '在线教育产品'], 'createTime': '2020-08-17 18:45:15', 'formatCreateTime': '18:45发布', 'city': '北京', 'district': '海淀区', 'businessZones': None, 'salary': '20k-30k', 'salaryMonth': '13', 'workYear': '3-5年', 'jobNature': '全职', 'education': '本科', 'positionAdvantage': '多次调薪,绩效奖金,节日福利,周末双休', 'imState': 'today', 'lastLogin': '2020-08-17 19:20:02', 'publisherId': 2167354, 'approve': 1, 'subwayline': '10号线', 'stationname': '知春里', 'linestaion': '4号线大兴线_海淀黄庄;4号线大兴线_中关村;4号线大兴线_北京大学东门;10号线_苏州街;10号线_海淀黄庄;10号线_知春里', 'latitude': '39.98345', 'longitude': '116.317786', 'distance': None, 'hitags': None, 'resumeProcessRate': 100, 'resumeProcessDay': 1, 'score': 13, 'newScore': 0.0, 'matchScore': 1.7504408, 'matchScoreExplain': None, 'query': None, 'explain': None, 'isSchoolJob': 0, 'adWord': 0, 'plus': None, 'pcShow': 0, 'appShow': 0, 'deliver': 0, 'gradeDescription': None, 'promotionScoreExplain': None, 'isHotHire': 0, 'count': 0, 'aggregatePositionIds': [], 'promotionType': None, 'detailRecall': False, 'famousCompany': False}, {'positionId': 7429841, 'positionName': '数据分析专家', 'companyId': 522924, 'companyFullName': '四川伊澳农业科技有限公司', 'companyShortName': '伊澳科技', 'companyLogo': 'i/image2/M01/F3/E3/CgotOVyA4ZmAY_gzAAArZtnTztc194.png', 'companySize': '2000人以上', 'industryField': '移动互联网,电商', 'financeStage': '上市公司', 'companyLabelList': ['专项奖金', '股票期权', '绩效奖金', '年终分红'], 'firstType': '产品|需求|项目类', 'secondType': '高端产品职位', 'thirdType': '数据分析专家', 'skillLables': ['决策能力', '业务流程管理'], 'positionLables': ['电商', '决策能力', '业务流程管理'], 'industryLables': ['电商', '决策能力', '业务流程管理'], 'createTime': '2020-08-17 20:29:03', 'formatCreateTime': '20:29发布', 'city': '北京', 'district': '朝阳区', 'businessZones': ['燕莎', '麦子店', '亮马桥'], 'salary': '35k-55k', 'salaryMonth': '15', 'workYear': '5-10年', 'jobNature': '全职', 'education': '本科', 'positionAdvantage': '美女多,有期权,即将上市,大牛多', 'imState': 'today', 'lastLogin': '2020-08-17 20:28:54', 'publisherId': 12885372, 'approve': 1, 'subwayline': '机场线', 'stationname': '三元桥', 'linestaion': '10号线_三元桥;10号线_亮马桥;10号线_农业展览馆;14号线东段_枣营;机场线_三元桥', 'latitude': '39.949277', 'longitude': '116.460558', 'distance': None, 'hitags': None, 'resumeProcessRate': 100, 'resumeProcessDay': 1, 'score': 13, 'newScore': 0.0, 'matchScore': 2.4487746, 'matchScoreExplain': None, 'query': None, 'explain': None, 'isSchoolJob': 0, 'adWord': 0, 'plus': None, 'pcShow': 0, 'appShow': 0, 'deliver': 0, 'gradeDescription': None, 'promotionScoreExplain': None, 'isHotHire': 0, 'count': 0, 'aggregatePositionIds': [], 'promotionType': None, 'detailRecall': False, 'famousCompany': False}]\n"
     ]
    },
    {
     "ename": "KeyboardInterrupt",
     "evalue": "",
     "output_type": "error",
     "traceback": [
      "\u001b[1;31m---------------------------------------------------------------------------\u001b[0m",
      "\u001b[1;31mKeyboardInterrupt\u001b[0m                         Traceback (most recent call last)",
      "\u001b[1;32m<ipython-input-8-fa2b97a7b29e>\u001b[0m in \u001b[0;36m<module>\u001b[1;34m\u001b[0m\n\u001b[0;32m      9\u001b[0m         \u001b[0mtime\u001b[0m\u001b[1;33m.\u001b[0m\u001b[0msleep\u001b[0m\u001b[1;33m(\u001b[0m\u001b[0mrandom\u001b[0m\u001b[1;33m.\u001b[0m\u001b[0mrandom\u001b[0m\u001b[1;33m(\u001b[0m\u001b[1;33m)\u001b[0m\u001b[1;33m+\u001b[0m\u001b[0mrandom\u001b[0m\u001b[1;33m.\u001b[0m\u001b[0mrandint\u001b[0m\u001b[1;33m(\u001b[0m\u001b[1;36m1\u001b[0m\u001b[1;33m,\u001b[0m\u001b[1;36m2\u001b[0m\u001b[1;33m)\u001b[0m\u001b[1;33m)\u001b[0m\u001b[1;33m\u001b[0m\u001b[1;33m\u001b[0m\u001b[0m\n\u001b[0;32m     10\u001b[0m         \u001b[0mresponse_json\u001b[0m \u001b[1;33m=\u001b[0m \u001b[0mcrawl\u001b[0m\u001b[1;33m(\u001b[0m\u001b[0mcity\u001b[0m\u001b[1;33m=\u001b[0m\u001b[0mcity\u001b[0m\u001b[1;33m,\u001b[0m\u001b[0mpn\u001b[0m\u001b[1;33m=\u001b[0m\u001b[0mi\u001b[0m\u001b[1;33m,\u001b[0m\u001b[0mcookies\u001b[0m\u001b[1;33m=\u001b[0m\u001b[0mcookies\u001b[0m\u001b[1;33m)\u001b[0m\u001b[1;33m\u001b[0m\u001b[1;33m\u001b[0m\u001b[0m\n\u001b[1;32m---> 11\u001b[1;33m         \u001b[0mtime\u001b[0m\u001b[1;33m.\u001b[0m\u001b[0msleep\u001b[0m\u001b[1;33m(\u001b[0m\u001b[1;36m3\u001b[0m\u001b[1;33m)\u001b[0m\u001b[1;33m\u001b[0m\u001b[1;33m\u001b[0m\u001b[0m\n\u001b[0m\u001b[0;32m     12\u001b[0m         \u001b[1;32mtry\u001b[0m\u001b[1;33m:\u001b[0m\u001b[1;33m\u001b[0m\u001b[1;33m\u001b[0m\u001b[0m\n\u001b[0;32m     13\u001b[0m             \u001b[0mposition_list\u001b[0m \u001b[1;33m=\u001b[0m \u001b[0mresponse_json\u001b[0m\u001b[1;33m[\u001b[0m\u001b[1;34m\"content\"\u001b[0m\u001b[1;33m]\u001b[0m\u001b[1;33m[\u001b[0m \u001b[1;34m'positionResult'\u001b[0m\u001b[1;33m]\u001b[0m\u001b[1;33m[\u001b[0m\u001b[1;34m\"result\"\u001b[0m\u001b[1;33m]\u001b[0m\u001b[1;33m\u001b[0m\u001b[1;33m\u001b[0m\u001b[0m\n",
      "\u001b[1;31mKeyboardInterrupt\u001b[0m: "
     ]
    }
   ],
   "source": [
    "city_list = [\"北京\",\"上海\",\"深圳\",\"广州\",\"杭州\",\"成都\",\"南京\",\"武汉\",\"西安\",\"厦门\",\"长沙\",\"苏州\",\"天津\"]\n",
    "\n",
    "for city in city_list:\n",
    "    print(\"*\"*60)\n",
    "    print(\"{city} start\".format(city=city))\n",
    "    for i in range(1,31):\n",
    "        if (i-1)%5==0:\n",
    "            cookies = get_cookie()\n",
    "        time.sleep(random.random()+random.randint(1,2))\n",
    "        response_json = crawl(city=city,pn=i,cookies=cookies)\n",
    "        time.sleep(3)\n",
    "        try:\n",
    "            position_list = response_json[\"content\"][ 'positionResult'][\"result\"]\n",
    "            print(position_list)\n",
    "        except:\n",
    "            print(response_json)\n",
    "        if len(position_list)<1: \n",
    "            print(\"{city} start\".format(city=city))\n",
    "            print(\"*\"*60)\n",
    "            break\n",
    "        # collection.insert_many(position_list)\n",
    "        # print(cookies)\n",
    "    print(\"{city} end\".format(city=city))\n",
    "    print(\"*\"*60)"
   ]
  },
  {
   "cell_type": "code",
   "execution_count": null,
   "metadata": {},
   "outputs": [],
   "source": []
  }
 ],
 "metadata": {
  "kernelspec": {
   "display_name": "Python 3",
   "language": "python",
   "name": "python3"
  },
  "language_info": {
   "codemirror_mode": {
    "name": "ipython",
    "version": 3
   },
   "file_extension": ".py",
   "mimetype": "text/x-python",
   "name": "python",
   "nbconvert_exporter": "python",
   "pygments_lexer": "ipython3",
   "version": "3.7.4"
  },
  "toc": {
   "base_numbering": 1,
   "nav_menu": {},
   "number_sections": true,
   "sideBar": true,
   "skip_h1_title": false,
   "title_cell": "Table of Contents",
   "title_sidebar": "Contents",
   "toc_cell": false,
   "toc_position": {},
   "toc_section_display": true,
   "toc_window_display": false
  },
  "varInspector": {
   "cols": {
    "lenName": 16,
    "lenType": 16,
    "lenVar": 40
   },
   "kernels_config": {
    "python": {
     "delete_cmd_postfix": "",
     "delete_cmd_prefix": "del ",
     "library": "var_list.py",
     "varRefreshCmd": "print(var_dic_list())"
    },
    "r": {
     "delete_cmd_postfix": ") ",
     "delete_cmd_prefix": "rm(",
     "library": "var_list.r",
     "varRefreshCmd": "cat(var_dic_list()) "
    }
   },
   "types_to_exclude": [
    "module",
    "function",
    "builtin_function_or_method",
    "instance",
    "_Feature"
   ],
   "window_display": false
  }
 },
 "nbformat": 4,
 "nbformat_minor": 2
}
